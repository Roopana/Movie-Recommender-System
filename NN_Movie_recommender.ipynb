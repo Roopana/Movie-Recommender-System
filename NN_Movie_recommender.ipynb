{
 "cells": [
  {
   "cell_type": "markdown",
   "metadata": {},
   "source": [
    "",
    "\n",
    "",
    ""
   ]
  },
  {
   "cell_type": "code",
   "execution_count": 47,
   "metadata": {},
   "outputs": [],
   "source": [
    "from keras.models import Model\n",
    "from keras.layers import Input, Reshape, Dot, Flatten, Lambda\n",
    "from keras.layers import Concatenate, Dense, Dropout, Activation\n",
    "from keras.layers.embeddings import Embedding\n",
    "from keras.optimizers import Adam\n",
    "from keras.regularizers import l2\n",
    "\n",
    "%matplotlib inline\n",
    "import matplotlib.pyplot as plt\n",
    "\n",
    "import pandas as pd\n",
    "\n",
    "from lenskit import batch, util\n",
    "from lenskit import crossfold as xf\n",
    "from lenskit.algorithms import funksvd\n",
    "from lenskit.metrics.predict import rmse\n",
    "\n",
    "import numpy as np"
   ]
  },
  {
   "cell_type": "code",
   "execution_count": 48,
   "metadata": {},
   "outputs": [],
   "source": [
    "ratings = pd.read_csv('ml-1m/ratings.dat', sep='::', engine='python',\n",
    "                      names=['user', 'item', 'rating', 'timestamp'])"
   ]
  },
  {
   "cell_type": "code",
   "execution_count": 49,
   "metadata": {},
   "outputs": [],
   "source": [
    "splits = []\n",
    "\n",
    "for train, test in xf.partition_users(ratings[['user', 'item', 'rating']], 5, xf.SampleFrac(0.2)):\n",
    "    splits.append((train, test))"
   ]
  },
  {
   "cell_type": "code",
   "execution_count": 50,
   "metadata": {},
   "outputs": [],
   "source": [
    "def evaluate( aname, algo, train, test):\n",
    "    fittable = util.clone(algo)\n",
    "    # Train the algo\n",
    "    fittable.fit(train)\n",
    "    # Generate predictions\n",
    "    recs = batch.predict(fittable, test)\n",
    "    recs['Algorithm'] = aname\n",
    "    return recs"
   ]
  },
  {
   "cell_type": "code",
   "execution_count": 51,
   "metadata": {},
   "outputs": [],
   "source": [
    "all_recs = []\n",
    "test_data = []\n",
    "for train, test in splits:\n",
    "    f_svd = funksvd.FunkSVD(20)\n",
    "    test_data.append(test)\n",
    "    all_recs.append(evaluate('funk_svd_20', f_svd, train, test))\n",
    "\n",
    "all_recs_df = pd.concat(all_recs, ignore_index=True)\n",
    "algo_rmse = all_recs_df.groupby('Algorithm').apply(lambda df: rmse(df.prediction, df.rating)).rename('RMSE values')"
   ]
  },
  {
   "cell_type": "code",
   "execution_count": 52,
   "metadata": {},
   "outputs": [
    {
     "data": {
      "text/plain": [
       "Algorithm\n",
       "funk_svd_20    0.856871\n",
       "Name: RMSE values, dtype: float64"
      ]
     },
     "execution_count": 52,
     "metadata": {},
     "output_type": "execute_result"
    }
   ],
   "source": [
    "algo_rmse"
   ]
  },
  {
   "cell_type": "code",
   "execution_count": 59,
   "metadata": {},
   "outputs": [],
   "source": [
    "from keras import backend as K\n",
    "\n",
    "# Source: https://stackoverflow.com/a/43863854/4031302\n",
    "# Keras only provided the option of MSE and not RMSE.\n",
    "# This function defines custom RMSE function, which is used for loss calculation in our NN.\n",
    "def root_mean_squared_error(y_true, y_pred):\n",
    "        return K.sqrt(K.mean(K.square(y_pred - y_true), axis=-1))\n",
    "\n",
    "n_users = ratings.user.max()+1\n",
    "n_movies = ratings.item.max()+1\n",
    "n_factors = 50"
   ]
  },
  {
   "cell_type": "code",
   "execution_count": 57,
   "metadata": {},
   "outputs": [
    {
     "name": "stderr",
     "output_type": "stream",
     "text": [
      "c:\\users\\magic\\envs\\datascience\\lib\\site-packages\\tensorflow_core\\python\\framework\\indexed_slices.py:424: UserWarning: Converting sparse IndexedSlices to a dense Tensor of unknown shape. This may consume a large amount of memory.\n",
      "  \"Converting sparse IndexedSlices to a dense Tensor of unknown shape. \"\n"
     ]
    },
    {
     "name": "stdout",
     "output_type": "stream",
     "text": [
      "Mean RMSE for Recommender v1: 0.7423263025408607\n"
     ]
    },
    {
     "data": {
      "image/png": "[encoded data removed]",
      "text/plain": [
       "<Figure size 432x288 with 1 Axes>"
      ]
     },
     "metadata": {
      "needs_background": "light"
     },
     "output_type": "display_data"
    }
   ],
   "source": [
    "# Sources:\n",
    "# https://medium.com/@jdwittenauer/deep-learning-with-keras-recommender-systems-e7b99cb29929\n",
    "# Here we try to replicate matrix factorization, by learning the user and movie embeddings\n",
    "# in a 50 dimensional space\n",
    "def RecommenderV1(n_users, n_movies, n_factors):\n",
    "    user = Input(shape=(1,))\n",
    "    # Embedding layer learns a 50-dimensional representation for users.\n",
    "    u = Embedding(n_users, n_factors, embeddings_initializer='he_normal',\n",
    "                  embeddings_regularizer=l2(1e-6))(user)\n",
    "    u = Flatten()(u)\n",
    "    \n",
    "    movie = Input(shape=(1,))\n",
    "    # Similar to previous embedding layer, this learns movie representations\n",
    "    m = Embedding(n_movies, n_factors, embeddings_initializer='he_normal',\n",
    "                  embeddings_regularizer=l2(1e-6))(movie)\n",
    "    m = Flatten()(m)\n",
    "    \n",
    "    # Just like in the case of matrix factorization, we take product of user and movie embeddings.\n",
    "    # This is trained to be equal to actual rating.\n",
    "    x = Dot(axes=1)([u, m])\n",
    "    model = Model(inputs=[user, movie], outputs=x)\n",
    "    opt = Adam(lr=0.001)\n",
    "    model.compile(loss=root_mean_squared_error, optimizer=opt)\n",
    "    return model\n",
    "\n",
    "nn_rmse = []\n",
    "for train, test in splits:\n",
    "    model = RecommenderV1(n_users, n_movies, n_factors)\n",
    "    X_train = [train['user'].values, train['item'].values]\n",
    "    Y_train = train['rating'].values\n",
    "    \n",
    "    X_test = [test['user'].values, test['item'].values]\n",
    "    Y_test = test['rating'].values\n",
    "    \n",
    "    history = model.fit(x=X_train, y=Y_train, batch_size=64, epochs=5,\n",
    "                    verbose=0, validation_data=(X_test, Y_test))\n",
    "    nn_rmse.append(history.history['val_loss'][-1])\n",
    "    break # Remove this to run 5-fold cross validation. Takes >40 min.\n",
    "\n",
    "plt.plot(history.history['val_loss'])\n",
    "print(\"Mean RMSE for Recommender v1:\", np.mean(nn_rmse))"
   ]
  },
  {
   "cell_type": "code",
   "execution_count": 58,
   "metadata": {},
   "outputs": [
    {
     "name": "stderr",
     "output_type": "stream",
     "text": [
      "c:\\users\\magic\\envs\\datascience\\lib\\site-packages\\tensorflow_core\\python\\framework\\indexed_slices.py:424: UserWarning: Converting sparse IndexedSlices to a dense Tensor of unknown shape. This may consume a large amount of memory.\n",
      "  \"Converting sparse IndexedSlices to a dense Tensor of unknown shape. \"\n"
     ]
    },
    {
     "name": "stdout",
     "output_type": "stream",
     "text": [
      "Train on 958560 samples, validate on 41649 samples\n",
      "Epoch 1/5\n",
      "958560/958560 [==============================] - 149s 156us/step - loss: 0.7725 - val_loss: 0.7210\n",
      "Epoch 2/5\n",
      "958560/958560 [==============================] - 152s 158us/step - loss: 0.7491 - val_loss: 0.7178\n",
      "Epoch 3/5\n",
      "958560/958560 [==============================] - 154s 161us/step - loss: 0.7461 - val_loss: 0.7158\n",
      "Epoch 4/5\n",
      "958560/958560 [==============================] - 151s 157us/step - loss: 0.7442 - val_loss: 0.7165\n",
      "Epoch 5/5\n",
      "958560/958560 [==============================] - 150s 157us/step - loss: 0.7434 - val_loss: 0.7139\n",
      "Mean RMSE for Recommender v1: 0.7138751319952894\n"
     ]
    },
    {
     "data": {
      "image/png": "[encoded data removed]",
      "text/plain": [
       "<Figure size 432x288 with 1 Axes>"
      ]
     },
     "metadata": {
      "needs_background": "light"
     },
     "output_type": "display_data"
    }
   ],
   "source": [
    "# Sources:\n",
    "# https://medium.com/@iliazaitsev/how-to-implement-a-recommendation-system-with-deep-learning-and-pytorch-2d40476590f9\n",
    "# https://medium.com/@jdwittenauer/deep-learning-with-keras-recommender-systems-e7b99cb29929\n",
    "def RecommenderV2(n_users, n_movies, n_factors):\n",
    "    # Here we try to learn more complex representations by introducing dense layers\n",
    "    # on top of the embeddings we learned.\n",
    "    user = Input(shape=(1,))\n",
    "    u = Embedding(n_users, n_factors, embeddings_initializer='he_normal',\n",
    "                  embeddings_regularizer=l2(1e-6))(user)\n",
    "    u = Flatten()(u)\n",
    "    \n",
    "    movie = Input(shape=(1,))\n",
    "    m = Embedding(n_movies, n_factors, embeddings_initializer='he_normal',\n",
    "                  embeddings_regularizer=l2(1e-6))(movie)\n",
    "    m = Flatten()(m)\n",
    "    \n",
    "    # Concatenate the embeddings and feed them together as input to the dense layers.\n",
    "    # The picture of architecture is shown in source 1.\n",
    "    x = Concatenate()([u, m])\n",
    "    \n",
    "    # Dropout layer randomly sets learning of some inputs to 0.\n",
    "    # Prevents over-fitting, which is a valid concern since we're learning huge number of parameters.\n",
    "    x = Dropout(0.05)(x)\n",
    "    \n",
    "    x = Dense(10, kernel_initializer='he_normal')(x)\n",
    "    # Relu activation introduces some non-linearity to the model.\n",
    "    # Helps learn non-linear relations in the data.\n",
    "    x = Activation('relu')(x)\n",
    "    \n",
    "    x = Dropout(0.5)(x)\n",
    "    \n",
    "    # Another dense layer to learn better, more complex relations.\n",
    "    x = Dense(1, kernel_initializer='he_normal')(x)\n",
    "    \n",
    "    # We use sigmoid function to scale the output to our required scale.\n",
    "    x = Activation('sigmoid')(x)\n",
    "    x = Lambda(lambda x: x * (max_rating - min_rating) + min_rating)(x)\n",
    "    \n",
    "    model = Model(inputs=[user, movie], outputs=x)\n",
    "    opt = Adam(lr=0.001)\n",
    "    model.compile(loss=root_mean_squared_error, optimizer=opt)\n",
    "    return model\n",
    "\n",
    "max_rating=5.0; min_rating=0.0\n",
    "\n",
    "improved_rmse = []\n",
    "for train, test in splits:\n",
    "    model = RecommenderV2(n_users, n_movies, n_factors)\n",
    "    X_train = [train['user'].values, train['item'].values]\n",
    "    Y_train = train['rating'].values\n",
    "    \n",
    "    X_test = [test['user'].values, test['item'].values]\n",
    "    Y_test = test['rating'].values\n",
    "    \n",
    "    history = model.fit(x=X_train, y=Y_train, batch_size=64, epochs=5,\n",
    "                    verbose=1, validation_data=(X_test, Y_test))\n",
    "    improved_rmse.append(history.history['val_loss'][-1])\n",
    "    break # Remove this to run cross validation. Takes >40 min.\n",
    "\n",
    "plt.plot(history.history['val_loss'])\n",
    "print(\"Mean RMSE for Recommender v1:\", np.mean(improved_rmse)) # Should be v2"
   ]
  },
  {
   "cell_type": "markdown",
   "metadata": {},
   "source": [
    "## Results comparision\n",
    "\n",
    "(RMSE values)\n",
    "\n",
    "- Funk SVD : 0.856871\n",
    "- Recommender v1: 0.742\n",
    "- Recommender v2: 0.713"
   ]
  },
  {
   "cell_type": "markdown",
   "metadata": {},
   "source": [
    "## Sources:\n",
    "For the funk SVD part, we re-used code from previous assignments.\n",
    "\n",
    "We consulted following blogs to explore design of neural networks:\n",
    "- For the imroved algorithm idea: https://medium.com/@iliazaitsev/how-to-implement-a-recommendation-system-with-deep-learning-and-pytorch-2d40476590f9\n",
    "- For the basic implementation code: https://medium.com/@jdwittenauer/deep-learning-with-keras-recommender-systems-e7b99cb29929\n",
    "- For Root mean square implementation in tensorflow: https://stackoverflow.com/a/43863854/4031302"
   ]
  },
  {
   "cell_type": "code",
   "execution_count": null,
   "metadata": {},
   "outputs": [],
   "source": []
  }
 ],
 "metadata": {
  "kernelspec": {
   "display_name": "Python 3",
   "language": "python",
   "name": "python3"
  },
  "language_info": {
   "codemirror_mode": {
    "name": "ipython",
    "version": 3
   },
   "file_extension": ".py",
   "mimetype": "text/x-python",
   "name": "python",
   "nbconvert_exporter": "python",
   "pygments_lexer": "ipython3",
   "version": "3.7.3"
  }
 },
 "nbformat": 4,
 "nbformat_minor": 2
}
